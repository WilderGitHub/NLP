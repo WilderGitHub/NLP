{
 "cells": [
  {
   "cell_type": "code",
   "execution_count": 13,
   "metadata": {},
   "outputs": [
    {
     "name": "stdout",
     "output_type": "stream",
     "text": [
      "\n",
      " Total Tokens :  48\n"
     ]
    },
    {
     "name": "stderr",
     "output_type": "stream",
     "text": [
      "[nltk_data] Downloading package punkt to\n",
      "[nltk_data]     C:\\Users\\rserdan\\AppData\\Roaming\\nltk_data...\n",
      "[nltk_data]   Package punkt is already up-to-date!\n",
      "[nltk_data] Downloading package stopwords to\n",
      "[nltk_data]     C:\\Users\\rserdan\\AppData\\Roaming\\nltk_data...\n",
      "[nltk_data]   Package stopwords is already up-to-date!\n",
      "[nltk_data] Downloading package wordnet to\n",
      "[nltk_data]     C:\\Users\\rserdan\\AppData\\Roaming\\nltk_data...\n",
      "[nltk_data]   Package wordnet is already up-to-date!\n"
     ]
    }
   ],
   "source": [
    "#Prepare data for use in this exercise\n",
    "\n",
    "import nltk\n",
    "import os\n",
    "#Download punkt package, used part of the other commands\n",
    "nltk.set_proxy('http://10.1.11.50:8080', ('rserdan', '651651++lkjlkj'))\n",
    "nltk.download('punkt')\n",
    "\n",
    "#Read the base file into a token list\n",
    "base_file = open(os.getcwd()+ \"/Spark-Course-Description.txt\", 'rt')\n",
    "raw_text = base_file.read()\n",
    "base_file.close()\n",
    "\n",
    "#Execute the same pre-processing done in module 3\n",
    "token_list = nltk.word_tokenize(raw_text)\n",
    "\n",
    "token_list2 = list(filter(lambda token: nltk.tokenize.punkt.PunktToken(token).is_non_punct, token_list))\n",
    "\n",
    "token_list3=[word.lower() for word in token_list2 ]\n",
    "nltk.set_proxy('http://10.1.11.50:8080', ('rserdan', '651651++lkjlkj'))\n",
    "nltk.download('stopwords')\n",
    "from nltk.corpus import stopwords\n",
    "token_list4 = list(filter(lambda token: token not in stopwords.words('spanish'), token_list3))\n",
    "nltk.set_proxy('http://10.1.11.50:8080', ('rserdan', '651651++lkjlkj'))\n",
    "nltk.download('wordnet')\n",
    "from nltk.stem import WordNetLemmatizer\n",
    "lemmatizer = WordNetLemmatizer()\n",
    "token_list6 = [lemmatizer.lemmatize(word) for word in token_list4 ]\n",
    "\n",
    "print(\"\\n Total Tokens : \",len(token_list6))"
   ]
  },
  {
   "cell_type": "markdown",
   "metadata": {},
   "source": [
    "## 04_01 Build ngrams"
   ]
  },
  {
   "cell_type": "code",
   "execution_count": 14,
   "metadata": {},
   "outputs": [
    {
     "name": "stdout",
     "output_type": "stream",
     "text": [
      "Most common bigrams : \n",
      "[(('balanza', 'pagos'), 2), (('flujos', 'financiamiento'), 2), (('financiamiento', 'externo'), 2), (('quiero', 'tomar'), 1), (('tomar', 'amigo'), 1)]\n",
      " \n",
      " Most common trigrams : \n",
      "[(('flujos', 'financiamiento', 'externo'), 2), (('quiero', 'tomar', 'amigo'), 1), (('tomar', 'amigo', 'describir'), 1), (('amigo', 'describir', 'formas'), 1), (('describir', 'formas', 'financiamiento'), 1)]\n"
     ]
    }
   ],
   "source": [
    "\n",
    "from nltk.util import ngrams\n",
    "from collections import Counter\n",
    "\n",
    "#Find bigrams and print the most common 5\n",
    "bigrams = ngrams(token_list6,2)\n",
    "print(\"Most common bigrams : \")\n",
    "print(Counter(bigrams).most_common(5))\n",
    "\n",
    "#Find trigrams and print the most common 5\n",
    "trigrams = ngrams(token_list6,3)\n",
    "print(\" \\n Most common trigrams : \" )\n",
    "print(Counter(trigrams).most_common(5))"
   ]
  },
  {
   "cell_type": "markdown",
   "metadata": {},
   "source": [
    "## 04_02 Parts-of-Speech Tagging\n",
    "\n",
    "Some examples of Parts-of-Speech abbreviations:\n",
    "NN : noun\n",
    "NNS : noun plural\n",
    "VBP : Verb singular present."
   ]
  },
  {
   "cell_type": "code",
   "execution_count": 15,
   "metadata": {},
   "outputs": [
    {
     "name": "stderr",
     "output_type": "stream",
     "text": [
      "[nltk_data] Downloading package averaged_perceptron_tagger to\n",
      "[nltk_data]     C:\\Users\\rserdan\\AppData\\Roaming\\nltk_data...\n",
      "[nltk_data]   Package averaged_perceptron_tagger is already up-to-\n",
      "[nltk_data]       date!\n"
     ]
    },
    {
     "data": {
      "text/plain": [
       "[('quiero', 'NN'),\n",
       " ('tomar', 'NN'),\n",
       " ('amigos', 'IN'),\n",
       " ('describir', 'NN'),\n",
       " ('formas', 'NN'),\n",
       " ('financiamiento', 'NN'),\n",
       " ('marco', 'NN'),\n",
       " ('lineamientos', 'NN'),\n",
       " ('estadísticos', 'NN'),\n",
       " ('internacionalmente', 'NN'),\n",
       " ('aceptados', 'IN'),\n",
       " ('divulgados', 'JJ'),\n",
       " ('manual', 'JJ'),\n",
       " ('balanza', 'NN'),\n",
       " ('pagos', 'NNS'),\n",
       " ('posición', 'VBP'),\n",
       " ('inversión', 'JJ'),\n",
       " ('internacional', 'JJ'),\n",
       " ('examinar', 'NN'),\n",
       " ('flujos', 'NN'),\n",
       " ('financiamiento', 'NN'),\n",
       " ('externo', 'NN'),\n",
       " ('categorías', 'NN'),\n",
       " ('funcionales', 'VBZ'),\n",
       " ('cuenta', 'JJ'),\n",
       " ('financiera', 'NN'),\n",
       " ('balanza', 'NN'),\n",
       " ('pagos', 'NN'),\n",
       " ('sector', 'NN'),\n",
       " ('económico', 'VBD')]"
      ]
     },
     "execution_count": 15,
     "metadata": {},
     "output_type": "execute_result"
    }
   ],
   "source": [
    "#download the tagger package\n",
    "nltk.set_proxy('http://10.1.11.50:8080', ('rserdan', '651651++lkjlkj'))\n",
    "nltk.download('averaged_perceptron_tagger')\n",
    "\n",
    "#Tag and print the first 10 tokens\n",
    "nltk.pos_tag(token_list4)[:30]"
   ]
  },
  {
   "cell_type": "markdown",
   "metadata": {},
   "source": [
    "## 04_04 Building TF-IDF matrix"
   ]
  },
  {
   "cell_type": "code",
   "execution_count": 16,
   "metadata": {},
   "outputs": [
    {
     "name": "stdout",
     "output_type": "stream",
     "text": [
      "Tokens used as features are : \n",
      "['america', 'basketball', 'league', 'nba', 'popular', 'telecast', 'tv']\n",
      "\n",
      " Size of array. Each row represents a document. Each column represents a feature/token\n",
      "(3, 7)\n",
      "\n",
      " Actual TF-IDF array\n"
     ]
    },
    {
     "data": {
      "text/plain": [
       "array([[0.        , 0.38537163, 0.65249088, 0.65249088, 0.        ,\n",
       "        0.        , 0.        ],\n",
       "       [0.54783215, 0.42544054, 0.        , 0.        , 0.72033345,\n",
       "        0.        , 0.        ],\n",
       "       [0.44451431, 0.34520502, 0.        , 0.        , 0.        ,\n",
       "        0.5844829 , 0.5844829 ]])"
      ]
     },
     "execution_count": 16,
     "metadata": {},
     "output_type": "execute_result"
    }
   ],
   "source": [
    "#Use scikit-learn library\n",
    "from sklearn.feature_extraction.text import TfidfVectorizer\n",
    "import pandas as pd\n",
    "\n",
    "#Use a small corpus for each visualization\n",
    "vector_corpus = [\n",
    "    'NBA is a Basketball league',\n",
    "    'Basketball is popular in America.',\n",
    "    'TV in America telecast BasketBall.',\n",
    "]\n",
    "\n",
    "#Create a vectorizer for english language\n",
    "vectorizer = TfidfVectorizer(stop_words='english')\n",
    "\n",
    "#Create the vector\n",
    "tfidf=vectorizer.fit_transform(vector_corpus)\n",
    "\n",
    "print(\"Tokens used as features are : \")\n",
    "print(vectorizer.get_feature_names())\n",
    "\n",
    "print(\"\\n Size of array. Each row represents a document. Each column represents a feature/token\")\n",
    "print(tfidf.shape)\n",
    "\n",
    "print(\"\\n Actual TF-IDF array\")\n",
    "tfidf.toarray()\n"
   ]
  },
  {
   "cell_type": "code",
   "execution_count": null,
   "metadata": {},
   "outputs": [],
   "source": []
  }
 ],
 "metadata": {
  "kernelspec": {
   "display_name": "Python 3",
   "language": "python",
   "name": "python3"
  },
  "language_info": {
   "codemirror_mode": {
    "name": "ipython",
    "version": 3
   },
   "file_extension": ".py",
   "mimetype": "text/x-python",
   "name": "python",
   "nbconvert_exporter": "python",
   "pygments_lexer": "ipython3",
   "version": "3.8.5"
  }
 },
 "nbformat": 4,
 "nbformat_minor": 2
}
